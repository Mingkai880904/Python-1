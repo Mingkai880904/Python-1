{
  "nbformat": 4,
  "nbformat_minor": 0,
  "metadata": {
    "colab": {
      "name": "python網路爬蟲_1.ipynb",
      "version": "0.3.2",
      "provenance": [],
      "include_colab_link": true
    },
    "kernelspec": {
      "name": "python3",
      "display_name": "Python 3"
    }
  },
  "cells": [
    {
      "cell_type": "markdown",
      "metadata": {
        "id": "view-in-github",
        "colab_type": "text"
      },
      "source": [
        "<a href=\"https://colab.research.google.com/github/MyDearGreatTeacher/Python/blob/master/python%E7%B6%B2%E8%B7%AF%E7%88%AC%E8%9F%B2_1.ipynb\" target=\"_parent\"><img src=\"https://colab.research.google.com/assets/colab-badge.svg\" alt=\"Open In Colab\"/></a>"
      ]
    },
    {
      "metadata": {
        "id": "jV50S7R__BTC",
        "colab_type": "code",
        "colab": {}
      },
      "cell_type": "code",
      "source": [
        ""
      ],
      "execution_count": 0,
      "outputs": []
    },
    {
      "metadata": {
        "id": "vyFWSb7e_CFt",
        "colab_type": "text"
      },
      "cell_type": "markdown",
      "source": [
        ""
      ]
    },
    {
      "metadata": {
        "id": "oiOvaEam_Cda",
        "colab_type": "code",
        "colab": {
          "base_uri": "https://localhost:8080/",
          "height": 123
        },
        "outputId": "6b5a8a30-dc6b-4bef-e712-b75614c299c9"
      },
      "cell_type": "code",
      "source": [
        "import requests\n",
        "from bs4 import BeautifulSoup\n",
        "\n",
        "def main():    \n",
        "   url1 = 'http://jwlin.github.io/py-scraping-analysis-book/ch1/connect.html'    \n",
        "   bad_url = 'http://non-existed.domain/connect.html'    \n",
        "\n",
        "   text1 = get_tag_text(url1, 'h1')    \n",
        "   print(text1)    \n",
        "\n",
        "   text2 = get_tag_text(url1, 'h2')    \n",
        "   print(text2)    \n",
        "\n",
        "   text3 = get_tag_text(bad_url, 'h1')    \n",
        "   print(text3)\n",
        "\n",
        "def get_tag_text(url, tag):    \n",
        "        try:        \n",
        "             resp = requests.get(url)        \n",
        "             if resp.status_code == 200:            \n",
        "                      soup = BeautifulSoup(resp.text, 'html.parser')            \n",
        "                      return soup.find(tag).text    \n",
        "        except Exception as e:        \n",
        "            print('Exception: %s' %(e))    \n",
        "\n",
        " #  return None\n",
        "\n",
        "\n",
        "\n",
        "if __name__ == '__main__':    \n",
        "        main()\n"
      ],
      "execution_count": 5,
      "outputs": [
        {
          "output_type": "stream",
          "text": [
            "歡迎來到 Pycone 松果城市！\n",
            "Exception: 'NoneType' object has no attribute 'text'\n",
            "None\n",
            "Exception: HTTPConnectionPool(host='non-existed.domain', port=80): Max retries exceeded with url: /connect.html (Caused by NewConnectionError('<urllib3.connection.HTTPConnection object at 0x7f9255c40278>: Failed to establish a new connection: [Errno -2] Name or service not known',))\n",
            "None\n"
          ],
          "name": "stdout"
        }
      ]
    }
  ]
}